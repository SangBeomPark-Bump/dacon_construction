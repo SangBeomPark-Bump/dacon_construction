{
  "cells": [
    {
      "cell_type": "code",
      "source": [
        "print(\"hello_world\")"
      ],
      "metadata": {
        "id": "qBd8W56RE8JM",
        "outputId": "fdd5ec9a-e690-422b-b96e-313ef46c493e",
        "colab": {
          "base_uri": "https://localhost:8080/"
        }
      },
      "execution_count": 1,
      "outputs": [
        {
          "output_type": "stream",
          "name": "stdout",
          "text": [
            "hello_world\n"
          ]
        }
      ]
    },
    {
      "cell_type": "markdown",
      "source": [],
      "metadata": {
        "id": "Out-7389E7t8"
      }
    }
  ],
  "metadata": {
    "language_info": {
      "name": "python"
    },
    "colab": {
      "provenance": []
    },
    "kernelspec": {
      "name": "python3",
      "display_name": "Python 3"
    }
  },
  "nbformat": 4,
  "nbformat_minor": 0
}